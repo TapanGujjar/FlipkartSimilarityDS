{
 "cells": [
  {
   "cell_type": "code",
   "execution_count": 1,
   "metadata": {},
   "outputs": [],
   "source": [
    "import pandas as pd\n",
    "import numpy as np\n",
    "import matplotlib.pyplot as plt"
   ]
  },
  {
   "cell_type": "code",
   "execution_count": 2,
   "metadata": {},
   "outputs": [],
   "source": [
    "import re"
   ]
  },
  {
   "cell_type": "code",
   "execution_count": 3,
   "metadata": {},
   "outputs": [],
   "source": [
    "from sklearn.feature_extraction.text import TfidfVectorizer"
   ]
  },
  {
   "cell_type": "code",
   "execution_count": 4,
   "metadata": {},
   "outputs": [],
   "source": [
    "from sklearn.metrics import pairwise_distances"
   ]
  },
  {
   "cell_type": "code",
   "execution_count": 36,
   "metadata": {},
   "outputs": [],
   "source": [
    "from sklearn.preprocessing import Normalizer"
   ]
  },
  {
   "cell_type": "markdown",
   "metadata": {},
   "source": [
    "## Load the data"
   ]
  },
  {
   "cell_type": "code",
   "execution_count": 46,
   "metadata": {},
   "outputs": [],
   "source": [
    "df=pd.read_csv(\"flipkart_com-ecommerce_sample.csv\")"
   ]
  },
  {
   "cell_type": "markdown",
   "metadata": {},
   "source": [
    "## Pre Processing"
   ]
  },
  {
   "cell_type": "code",
   "execution_count": 47,
   "metadata": {},
   "outputs": [
    {
     "data": {
      "text/plain": [
       "Index(['uniq_id', 'crawl_timestamp', 'product_url', 'product_name',\n",
       "       'product_category_tree', 'pid', 'retail_price', 'discounted_price',\n",
       "       'image', 'is_FK_Advantage_product', 'description', 'product_rating',\n",
       "       'overall_rating', 'brand', 'product_specifications'],\n",
       "      dtype='object')"
      ]
     },
     "execution_count": 47,
     "metadata": {},
     "output_type": "execute_result"
    }
   ],
   "source": [
    "df.columns"
   ]
  },
  {
   "cell_type": "code",
   "execution_count": 48,
   "metadata": {},
   "outputs": [],
   "source": [
    "df=df.drop_duplicates(subset='product_name')"
   ]
  },
  {
   "cell_type": "code",
   "execution_count": 50,
   "metadata": {},
   "outputs": [],
   "source": [
    "original_df=df.copy()"
   ]
  },
  {
   "cell_type": "code",
   "execution_count": 51,
   "metadata": {},
   "outputs": [],
   "source": [
    "dropCols=['uniq_id','crawl_timestamp','product_url','image','is_FK_Advantage_product','pid']"
   ]
  },
  {
   "cell_type": "code",
   "execution_count": 52,
   "metadata": {},
   "outputs": [],
   "source": [
    "df=df.drop(dropCols,axis=1)"
   ]
  },
  {
   "cell_type": "code",
   "execution_count": 53,
   "metadata": {},
   "outputs": [
    {
     "data": {
      "text/plain": [
       "product_name                 0\n",
       "product_category_tree        0\n",
       "retail_price                56\n",
       "discounted_price            56\n",
       "description                  1\n",
       "product_rating               0\n",
       "overall_rating               0\n",
       "brand                     3762\n",
       "product_specifications       8\n",
       "dtype: int64"
      ]
     },
     "execution_count": 53,
     "metadata": {},
     "output_type": "execute_result"
    }
   ],
   "source": [
    "df.isna().sum()"
   ]
  },
  {
   "cell_type": "code",
   "execution_count": 12,
   "metadata": {},
   "outputs": [],
   "source": [
    "df.product_rating=df.product_rating.replace(\"No rating available\",0)\n",
    "df.overall_rating=df.overall_rating.replace(\"No rating available\",0)"
   ]
  },
  {
   "cell_type": "code",
   "execution_count": 13,
   "metadata": {},
   "outputs": [],
   "source": [
    "df.product_rating=df.product_rating.astype(\"float\")\n",
    "df.overall_rating=df.overall_rating.astype(\"float\")"
   ]
  },
  {
   "cell_type": "code",
   "execution_count": 14,
   "metadata": {},
   "outputs": [],
   "source": [
    "def removeUnwantedElements(strValue):\n",
    "#     print(strValue)\n",
    "    strValue=re.sub(\"[^a-zA-Z]\",\" \",strValue)\n",
    "    strValue=strValue.split()\n",
    "    newStr=\"\";\n",
    "    for eachStr in strValue:\n",
    "        if(len(eachStr)>2):\n",
    "            newStr=newStr+\" \"+eachStr\n",
    "    return newStr"
   ]
  },
  {
   "cell_type": "code",
   "execution_count": 15,
   "metadata": {
    "scrolled": true
   },
   "outputs": [],
   "source": [
    "for col in df.columns:\n",
    "    if(df[col].dtypes=='object'):\n",
    "        df[col]=df[col].fillna(\"\")\n",
    "        df[col]=df[col].apply(lambda rowVal: removeUnwantedElements(rowVal))\n",
    "    else:\n",
    "        df[col]=df[col].fillna(0).astype(\"float\")\n"
   ]
  },
  {
   "cell_type": "markdown",
   "metadata": {},
   "source": [
    "## Converting brand to dummies"
   ]
  },
  {
   "cell_type": "code",
   "execution_count": 16,
   "metadata": {},
   "outputs": [],
   "source": [
    "df=pd.concat([df,pd.get_dummies(df.brand)],axis=1)"
   ]
  },
  {
   "cell_type": "code",
   "execution_count": 17,
   "metadata": {},
   "outputs": [],
   "source": [
    "df.drop(['brand'],axis=1,inplace=True)"
   ]
  },
  {
   "cell_type": "code",
   "execution_count": 18,
   "metadata": {},
   "outputs": [
    {
     "data": {
      "text/plain": [
       "Index(['product_name', 'product_category_tree', 'retail_price',\n",
       "       'discounted_price', 'description', 'product_rating', 'overall_rating',\n",
       "       'brand', 'product_specifications'],\n",
       "      dtype='object')"
      ]
     },
     "execution_count": 18,
     "metadata": {},
     "output_type": "execute_result"
    }
   ],
   "source": [
    "original_df.columns"
   ]
  },
  {
   "cell_type": "markdown",
   "metadata": {},
   "source": [
    "## Doing TF IDF Vectorizer on each Column"
   ]
  },
  {
   "cell_type": "code",
   "execution_count": 19,
   "metadata": {},
   "outputs": [
    {
     "data": {
      "text/plain": [
       "Series([], dtype: int64)"
      ]
     },
     "execution_count": 19,
     "metadata": {},
     "output_type": "execute_result"
    }
   ],
   "source": [
    "naCount=df.isna().sum()\n",
    "naCount[naCount>0]"
   ]
  },
  {
   "cell_type": "code",
   "execution_count": 20,
   "metadata": {},
   "outputs": [
    {
     "data": {
      "text/plain": [
       "Index(['product_name', 'product_category_tree', 'retail_price',\n",
       "       'discounted_price', 'description', 'product_rating', 'overall_rating',\n",
       "       'product_specifications', '', ' AAKAR',\n",
       "       ...\n",
       "       ' vinay', ' vinaya', ' walletsnbags', ' wallskart', ' womaniya',\n",
       "       ' xpert', ' youniqueshop', ' zDelhi com', ' zaidis', ' zasmina'],\n",
       "      dtype='object', length=3396)"
      ]
     },
     "execution_count": 20,
     "metadata": {},
     "output_type": "execute_result"
    }
   ],
   "source": [
    "df.columns"
   ]
  },
  {
   "cell_type": "code",
   "execution_count": 21,
   "metadata": {},
   "outputs": [],
   "source": [
    "vectorColumns=['product_name','product_category_tree','description','product_specifications']"
   ]
  },
  {
   "cell_type": "code",
   "execution_count": 22,
   "metadata": {},
   "outputs": [],
   "source": [
    "def vectorizeAndAppendDataFrame(columnName,dataFrame,min_df):\n",
    "    vectorizer=TfidfVectorizer(analyzer=\"word\",min_df=min_df,stop_words=\"english\")\n",
    "    x=vectorizer.fit_transform(df[columnName])\n",
    "    x=x.toarray()\n",
    "    x=pd.DataFrame(x)\n",
    "    vocab=vectorizer.get_feature_names()\n",
    "    x.columns=[columnName+\"_\"+str(col) for col in x.columns]\n",
    "    dataFrame=dataFrame.drop([columnName],axis=1)\n",
    "    dataFrame=pd.concat([dataFrame,x],axis=1)\n",
    "    return dataFrame,vocab"
   ]
  },
  {
   "cell_type": "code",
   "execution_count": 31,
   "metadata": {},
   "outputs": [],
   "source": [
    "df=df.reset_index()\n",
    "df=df.drop(['index'],axis=1)"
   ]
  },
  {
   "cell_type": "code",
   "execution_count": 32,
   "metadata": {},
   "outputs": [
    {
     "name": "stdout",
     "output_type": "stream",
     "text": [
      "product_name has vocabulary of  73\n",
      "product_category_tree has vocabulary of  114\n",
      "description has vocabulary of  383\n",
      "product_specifications has vocabulary of  370\n"
     ]
    }
   ],
   "source": [
    "for col in vectorColumns:\n",
    "    df,vocab=vectorizeAndAppendDataFrame(col,df,0.01)\n",
    "    print(col,\"has vocabulary of \",len(vocab))"
   ]
  },
  {
   "cell_type": "code",
   "execution_count": 33,
   "metadata": {},
   "outputs": [
    {
     "data": {
      "text/plain": [
       "Series([], dtype: int64)"
      ]
     },
     "execution_count": 33,
     "metadata": {},
     "output_type": "execute_result"
    }
   ],
   "source": [
    "naCount=df.isna().sum()\n",
    "naCount[naCount>0]"
   ]
  },
  {
   "cell_type": "code",
   "execution_count": 34,
   "metadata": {},
   "outputs": [
    {
     "data": {
      "text/plain": [
       "4332"
      ]
     },
     "execution_count": 34,
     "metadata": {},
     "output_type": "execute_result"
    }
   ],
   "source": [
    "len(df.columns)"
   ]
  },
  {
   "cell_type": "markdown",
   "metadata": {},
   "source": [
    "## Normalizing Price"
   ]
  },
  {
   "cell_type": "code",
   "execution_count": 37,
   "metadata": {},
   "outputs": [],
   "source": [
    "df[['retail_price','discounted_price']]=Normalizer().fit_transform(df[['retail_price','discounted_price']])"
   ]
  },
  {
   "cell_type": "markdown",
   "metadata": {},
   "source": [
    "## Doing pairwise Similarity"
   ]
  },
  {
   "cell_type": "code",
   "execution_count": 40,
   "metadata": {},
   "outputs": [],
   "source": [
    "simResult=pairwise_distances(df,metric=\"cosine\")"
   ]
  },
  {
   "cell_type": "code",
   "execution_count": 41,
   "metadata": {},
   "outputs": [],
   "source": [
    "similarityDf=pd.DataFrame(simResult)"
   ]
  },
  {
   "cell_type": "code",
   "execution_count": 42,
   "metadata": {},
   "outputs": [
    {
     "data": {
      "text/plain": [
       "(12676, 12676)"
      ]
     },
     "execution_count": 42,
     "metadata": {},
     "output_type": "execute_result"
    }
   ],
   "source": [
    "similarityDf.shape"
   ]
  },
  {
   "cell_type": "code",
   "execution_count": 54,
   "metadata": {
    "scrolled": true
   },
   "outputs": [],
   "source": [
    "similarityDf.columns=original_df.pid"
   ]
  },
  {
   "cell_type": "code",
   "execution_count": 55,
   "metadata": {},
   "outputs": [],
   "source": [
    "similarityDf.index=original_df.pid"
   ]
  },
  {
   "cell_type": "code",
   "execution_count": 57,
   "metadata": {},
   "outputs": [
    {
     "data": {
      "text/html": [
       "<div>\n",
       "<style scoped>\n",
       "    .dataframe tbody tr th:only-of-type {\n",
       "        vertical-align: middle;\n",
       "    }\n",
       "\n",
       "    .dataframe tbody tr th {\n",
       "        vertical-align: top;\n",
       "    }\n",
       "\n",
       "    .dataframe thead th {\n",
       "        text-align: right;\n",
       "    }\n",
       "</style>\n",
       "<table border=\"1\" class=\"dataframe\">\n",
       "  <thead>\n",
       "    <tr style=\"text-align: right;\">\n",
       "      <th>pid</th>\n",
       "      <th>SRTEH2FF9KEDEFGF</th>\n",
       "      <th>SBEEH3QGU7MFYJFY</th>\n",
       "      <th>SHOEH4GRSUBJGZXE</th>\n",
       "      <th>PSOEH3ZYDMSYARJ5</th>\n",
       "      <th>PWTEB7H2E4KCYUE3</th>\n",
       "      <th>SHOEH3DZBFR88SCK</th>\n",
       "      <th>SHOEH4KM2W3Z6EH5</th>\n",
       "      <th>SWIEHF3EF5PZAZUY</th>\n",
       "      <th>PSOEH3ZYYFETGCCD</th>\n",
       "      <th>BOTEGYTZ2T6WUJMM</th>\n",
       "      <th>...</th>\n",
       "      <th>STIE5UVGW2JWVWCT</th>\n",
       "      <th>STIEC889ZGFD3RCE</th>\n",
       "      <th>STIE2KFZTQFVYZQQ</th>\n",
       "      <th>SHODYZ6SYRMHDYPB</th>\n",
       "      <th>STIE9F5UGVJFQYZH</th>\n",
       "      <th>SNDEY8UH5TZ2AJCK</th>\n",
       "      <th>STIE2ZEPACRQJKH7</th>\n",
       "      <th>SNDDX969ZZJJKSHB</th>\n",
       "      <th>SNDEF3R3VB55PJBX</th>\n",
       "      <th>STIE4NXGSXG5GFR2</th>\n",
       "    </tr>\n",
       "    <tr>\n",
       "      <th>pid</th>\n",
       "      <th></th>\n",
       "      <th></th>\n",
       "      <th></th>\n",
       "      <th></th>\n",
       "      <th></th>\n",
       "      <th></th>\n",
       "      <th></th>\n",
       "      <th></th>\n",
       "      <th></th>\n",
       "      <th></th>\n",
       "      <th></th>\n",
       "      <th></th>\n",
       "      <th></th>\n",
       "      <th></th>\n",
       "      <th></th>\n",
       "      <th></th>\n",
       "      <th></th>\n",
       "      <th></th>\n",
       "      <th></th>\n",
       "      <th></th>\n",
       "      <th></th>\n",
       "    </tr>\n",
       "  </thead>\n",
       "  <tbody>\n",
       "    <tr>\n",
       "      <th>SRTEH2FF9KEDEFGF</th>\n",
       "      <td>0.000000</td>\n",
       "      <td>0.748230</td>\n",
       "      <td>0.677103</td>\n",
       "      <td>0.704454</td>\n",
       "      <td>0.786227</td>\n",
       "      <td>0.702858</td>\n",
       "      <td>0.904756</td>\n",
       "      <td>0.584718</td>\n",
       "      <td>0.869076</td>\n",
       "      <td>0.721611</td>\n",
       "      <td>...</td>\n",
       "      <td>0.724763</td>\n",
       "      <td>0.721104</td>\n",
       "      <td>0.725121</td>\n",
       "      <td>0.896133</td>\n",
       "      <td>0.730894</td>\n",
       "      <td>0.761778</td>\n",
       "      <td>0.894720</td>\n",
       "      <td>0.905138</td>\n",
       "      <td>0.630670</td>\n",
       "      <td>0.708748</td>\n",
       "    </tr>\n",
       "    <tr>\n",
       "      <th>SBEEH3QGU7MFYJFY</th>\n",
       "      <td>0.748230</td>\n",
       "      <td>0.000000</td>\n",
       "      <td>0.699197</td>\n",
       "      <td>0.707298</td>\n",
       "      <td>0.732622</td>\n",
       "      <td>0.714319</td>\n",
       "      <td>0.909893</td>\n",
       "      <td>0.743320</td>\n",
       "      <td>0.884869</td>\n",
       "      <td>0.749930</td>\n",
       "      <td>...</td>\n",
       "      <td>0.719539</td>\n",
       "      <td>0.719794</td>\n",
       "      <td>0.714548</td>\n",
       "      <td>0.906187</td>\n",
       "      <td>0.717695</td>\n",
       "      <td>0.842542</td>\n",
       "      <td>0.895019</td>\n",
       "      <td>0.922335</td>\n",
       "      <td>0.769514</td>\n",
       "      <td>0.699828</td>\n",
       "    </tr>\n",
       "    <tr>\n",
       "      <th>SHOEH4GRSUBJGZXE</th>\n",
       "      <td>0.677103</td>\n",
       "      <td>0.699197</td>\n",
       "      <td>0.000000</td>\n",
       "      <td>0.677530</td>\n",
       "      <td>0.752733</td>\n",
       "      <td>0.410047</td>\n",
       "      <td>0.807017</td>\n",
       "      <td>0.701619</td>\n",
       "      <td>0.854728</td>\n",
       "      <td>0.692572</td>\n",
       "      <td>...</td>\n",
       "      <td>0.696050</td>\n",
       "      <td>0.692944</td>\n",
       "      <td>0.694068</td>\n",
       "      <td>0.735716</td>\n",
       "      <td>0.696845</td>\n",
       "      <td>0.561320</td>\n",
       "      <td>0.885075</td>\n",
       "      <td>0.793583</td>\n",
       "      <td>0.312889</td>\n",
       "      <td>0.649572</td>\n",
       "    </tr>\n",
       "    <tr>\n",
       "      <th>PSOEH3ZYDMSYARJ5</th>\n",
       "      <td>0.704454</td>\n",
       "      <td>0.707298</td>\n",
       "      <td>0.677530</td>\n",
       "      <td>0.000000</td>\n",
       "      <td>0.730982</td>\n",
       "      <td>0.727762</td>\n",
       "      <td>0.905822</td>\n",
       "      <td>0.738307</td>\n",
       "      <td>0.140018</td>\n",
       "      <td>0.589886</td>\n",
       "      <td>...</td>\n",
       "      <td>0.662802</td>\n",
       "      <td>0.652499</td>\n",
       "      <td>0.609941</td>\n",
       "      <td>0.896621</td>\n",
       "      <td>0.639902</td>\n",
       "      <td>0.817176</td>\n",
       "      <td>0.862169</td>\n",
       "      <td>0.911898</td>\n",
       "      <td>0.746795</td>\n",
       "      <td>0.633235</td>\n",
       "    </tr>\n",
       "    <tr>\n",
       "      <th>PWTEB7H2E4KCYUE3</th>\n",
       "      <td>0.786227</td>\n",
       "      <td>0.732622</td>\n",
       "      <td>0.752733</td>\n",
       "      <td>0.730982</td>\n",
       "      <td>0.000000</td>\n",
       "      <td>0.710432</td>\n",
       "      <td>0.922688</td>\n",
       "      <td>0.790915</td>\n",
       "      <td>0.929189</td>\n",
       "      <td>0.755294</td>\n",
       "      <td>...</td>\n",
       "      <td>0.764543</td>\n",
       "      <td>0.756334</td>\n",
       "      <td>0.732770</td>\n",
       "      <td>0.914296</td>\n",
       "      <td>0.729758</td>\n",
       "      <td>0.849557</td>\n",
       "      <td>0.905870</td>\n",
       "      <td>0.926107</td>\n",
       "      <td>0.795336</td>\n",
       "      <td>0.744786</td>\n",
       "    </tr>\n",
       "  </tbody>\n",
       "</table>\n",
       "<p>5 rows × 12676 columns</p>\n",
       "</div>"
      ],
      "text/plain": [
       "pid               SRTEH2FF9KEDEFGF  SBEEH3QGU7MFYJFY  SHOEH4GRSUBJGZXE  \\\n",
       "pid                                                                      \n",
       "SRTEH2FF9KEDEFGF          0.000000          0.748230          0.677103   \n",
       "SBEEH3QGU7MFYJFY          0.748230          0.000000          0.699197   \n",
       "SHOEH4GRSUBJGZXE          0.677103          0.699197          0.000000   \n",
       "PSOEH3ZYDMSYARJ5          0.704454          0.707298          0.677530   \n",
       "PWTEB7H2E4KCYUE3          0.786227          0.732622          0.752733   \n",
       "\n",
       "pid               PSOEH3ZYDMSYARJ5  PWTEB7H2E4KCYUE3  SHOEH3DZBFR88SCK  \\\n",
       "pid                                                                      \n",
       "SRTEH2FF9KEDEFGF          0.704454          0.786227          0.702858   \n",
       "SBEEH3QGU7MFYJFY          0.707298          0.732622          0.714319   \n",
       "SHOEH4GRSUBJGZXE          0.677530          0.752733          0.410047   \n",
       "PSOEH3ZYDMSYARJ5          0.000000          0.730982          0.727762   \n",
       "PWTEB7H2E4KCYUE3          0.730982          0.000000          0.710432   \n",
       "\n",
       "pid               SHOEH4KM2W3Z6EH5  SWIEHF3EF5PZAZUY  PSOEH3ZYYFETGCCD  \\\n",
       "pid                                                                      \n",
       "SRTEH2FF9KEDEFGF          0.904756          0.584718          0.869076   \n",
       "SBEEH3QGU7MFYJFY          0.909893          0.743320          0.884869   \n",
       "SHOEH4GRSUBJGZXE          0.807017          0.701619          0.854728   \n",
       "PSOEH3ZYDMSYARJ5          0.905822          0.738307          0.140018   \n",
       "PWTEB7H2E4KCYUE3          0.922688          0.790915          0.929189   \n",
       "\n",
       "pid               BOTEGYTZ2T6WUJMM        ...         STIE5UVGW2JWVWCT  \\\n",
       "pid                                       ...                            \n",
       "SRTEH2FF9KEDEFGF          0.721611        ...                 0.724763   \n",
       "SBEEH3QGU7MFYJFY          0.749930        ...                 0.719539   \n",
       "SHOEH4GRSUBJGZXE          0.692572        ...                 0.696050   \n",
       "PSOEH3ZYDMSYARJ5          0.589886        ...                 0.662802   \n",
       "PWTEB7H2E4KCYUE3          0.755294        ...                 0.764543   \n",
       "\n",
       "pid               STIEC889ZGFD3RCE  STIE2KFZTQFVYZQQ  SHODYZ6SYRMHDYPB  \\\n",
       "pid                                                                      \n",
       "SRTEH2FF9KEDEFGF          0.721104          0.725121          0.896133   \n",
       "SBEEH3QGU7MFYJFY          0.719794          0.714548          0.906187   \n",
       "SHOEH4GRSUBJGZXE          0.692944          0.694068          0.735716   \n",
       "PSOEH3ZYDMSYARJ5          0.652499          0.609941          0.896621   \n",
       "PWTEB7H2E4KCYUE3          0.756334          0.732770          0.914296   \n",
       "\n",
       "pid               STIE9F5UGVJFQYZH  SNDEY8UH5TZ2AJCK  STIE2ZEPACRQJKH7  \\\n",
       "pid                                                                      \n",
       "SRTEH2FF9KEDEFGF          0.730894          0.761778          0.894720   \n",
       "SBEEH3QGU7MFYJFY          0.717695          0.842542          0.895019   \n",
       "SHOEH4GRSUBJGZXE          0.696845          0.561320          0.885075   \n",
       "PSOEH3ZYDMSYARJ5          0.639902          0.817176          0.862169   \n",
       "PWTEB7H2E4KCYUE3          0.729758          0.849557          0.905870   \n",
       "\n",
       "pid               SNDDX969ZZJJKSHB  SNDEF3R3VB55PJBX  STIE4NXGSXG5GFR2  \n",
       "pid                                                                     \n",
       "SRTEH2FF9KEDEFGF          0.905138          0.630670          0.708748  \n",
       "SBEEH3QGU7MFYJFY          0.922335          0.769514          0.699828  \n",
       "SHOEH4GRSUBJGZXE          0.793583          0.312889          0.649572  \n",
       "PSOEH3ZYDMSYARJ5          0.911898          0.746795          0.633235  \n",
       "PWTEB7H2E4KCYUE3          0.926107          0.795336          0.744786  \n",
       "\n",
       "[5 rows x 12676 columns]"
      ]
     },
     "execution_count": 57,
     "metadata": {},
     "output_type": "execute_result"
    }
   ],
   "source": [
    "similarityDf.head()"
   ]
  },
  {
   "cell_type": "markdown",
   "metadata": {},
   "source": [
    "## Saving the distance measure to a file"
   ]
  },
  {
   "cell_type": "code",
   "execution_count": 104,
   "metadata": {},
   "outputs": [],
   "source": [
    "similarityDf.to_csv(\"flipkartProductCosineDistance.csv\")"
   ]
  },
  {
   "cell_type": "code",
   "execution_count": 98,
   "metadata": {
    "scrolled": false
   },
   "outputs": [
    {
     "data": {
      "text/plain": [
       "Index(['SRTEH2FF9KEDEFGF', 'SRTEHVURZFRUZUCZ', 'BXREJYMSM2HRZYVR',\n",
       "       'TKPEGM48GGD2QKZN', 'BBOEGGV3NYMKAFMA'],\n",
       "      dtype='object', name='pid')"
      ]
     },
     "execution_count": 98,
     "metadata": {},
     "output_type": "execute_result"
    }
   ],
   "source": [
    "similarityDf['SRTEH2FF9KEDEFGF'].nsmallest(6).index"
   ]
  },
  {
   "cell_type": "markdown",
   "metadata": {},
   "source": [
    "## Simulating Simple Reco System"
   ]
  },
  {
   "cell_type": "code",
   "execution_count": 65,
   "metadata": {},
   "outputs": [],
   "source": [
    "from ipywidgets import widgets"
   ]
  },
  {
   "cell_type": "code",
   "execution_count": 102,
   "metadata": {},
   "outputs": [],
   "source": [
    "def getnLargestSimilarItems(product_id):\n",
    "    return list(similarityDf[str(product_id)].nsmallest(6).index),list(similarityDf[product_id].nsmallest(6).values)\n",
    "\n",
    "def getProductInfo(product_id):\n",
    "    itemRow=original_df[original_df.pid==str(product_id)]\n",
    "    pName=itemRow.product_name\n",
    "    pDesc=itemRow.description\n",
    "    pProductSpec=itemRow.product_specifications\n",
    "    pCat=itemRow.product_category_tree\n",
    "    return pName,pDesc,pProductSpec,pCat\n",
    "\n",
    "def printProductInfo(product_id):\n",
    "    name,desc,spec,cat=getProductInfo(product_id)\n",
    "    print(\"Name:\",name)\n",
    "    print(\"Desc:\",desc)\n",
    "    print(\"Spec:\",spec)\n",
    "    print(\"cat:\",cat)\n",
    "    \n",
    "def getProductIdAndRecommend(sender):\n",
    "    product_id=sender.value;\n",
    "    itemRow=original_df[original_df.pid==str(product_id)]\n",
    "    if(str(product_id) in similarityDf.columns):\n",
    "        similarProductList,similarityScore=getnLargestSimilarItems(product_id)\n",
    "        print(\"Current Products Below::\")\n",
    "        printProductInfo(product_id)\n",
    "        print(\"\\nPrint Similar Products\\n\");\n",
    "        for i in range(len(similarProductList)):\n",
    "            if(similarProductList[i]!=product_id):\n",
    "                printProductInfo(similarProductList[i])\n",
    "                print(\"Similarity Score of this product is \",(1-similarityScore[i]))\n",
    "                print(\"\\n\\n\")"
   ]
  },
  {
   "cell_type": "code",
   "execution_count": 103,
   "metadata": {
    "scrolled": true
   },
   "outputs": [
    {
     "data": {
      "application/vnd.jupyter.widget-view+json": {
       "model_id": "65c396ec4d5a4e089403d4edc0353c66",
       "version_major": 2,
       "version_minor": 0
      },
      "text/plain": [
       "Text(value='')"
      ]
     },
     "metadata": {},
     "output_type": "display_data"
    },
    {
     "name": "stdout",
     "output_type": "stream",
     "text": [
      "Current Products Below::\n",
      "Name: 2    AW Bellies\n",
      "Name: product_name, dtype: object\n",
      "Desc: 2    Key Features of AW Bellies Sandals Wedges Heel...\n",
      "Name: description, dtype: object\n",
      "Spec: 2    {\"product_specification\"=>[{\"key\"=>\"Ideal For\"...\n",
      "Name: product_specifications, dtype: object\n",
      "cat: 2    [\"Footwear >> Women's Footwear >> Ballerinas >...\n",
      "Name: product_category_tree, dtype: object\n",
      "\n",
      "Print Similar Products\n",
      "\n",
      "Name: 160    Selfie Boots\n",
      "Name: product_name, dtype: object\n",
      "Desc: 160    Selfie Boots\\n                         Price: ...\n",
      "Name: description, dtype: object\n",
      "Spec: 160    {\"product_specification\"=>[{\"key\"=>\"Ideal For\"...\n",
      "Name: product_specifications, dtype: object\n",
      "cat: 160    [\"Footwear >> Women's Footwear >> Casual Shoes...\n",
      "Name: product_category_tree, dtype: object\n",
      "Similarity Score of this product is  0.7594917387601814\n",
      "\n",
      "\n",
      "\n",
      "Name: 242    Salt N Pepper 12-298 Taupe Boots\n",
      "Name: product_name, dtype: object\n",
      "Desc: 242    Salt N Pepper 12-298 Taupe Boots\\n            ...\n",
      "Name: description, dtype: object\n",
      "Spec: 242    {\"product_specification\"=>[{\"key\"=>\"Ideal For\"...\n",
      "Name: product_specifications, dtype: object\n",
      "cat: 242    [\"Footwear >> Women's Footwear >> Casual Shoes...\n",
      "Name: product_category_tree, dtype: object\n",
      "Similarity Score of this product is  0.7502996725514622\n",
      "\n",
      "\n",
      "\n",
      "Name: 532    Bonzer Bellies\n",
      "Name: product_name, dtype: object\n",
      "Desc: 532    Bonzer Bellies - Buy Bonzer Bellies - BNZ-26 o...\n",
      "Name: description, dtype: object\n",
      "Spec: 532    {\"product_specification\"=>[{\"key\"=>\"Ideal For\"...\n",
      "Name: product_specifications, dtype: object\n",
      "cat: 532    [\"Footwear >> Women's Footwear >> Ballerinas\"]\n",
      "Name: product_category_tree, dtype: object\n",
      "Similarity Score of this product is  0.7466456816105115\n",
      "\n",
      "\n",
      "\n",
      "Name: 218    Salt N Pepper 13-019 Femme Taupe Boots Boots\n",
      "Name: product_name, dtype: object\n",
      "Desc: 218    Salt N Pepper 13-019 Femme Taupe Boots Boots\\n...\n",
      "Name: description, dtype: object\n",
      "Spec: 218    {\"product_specification\"=>[{\"key\"=>\"Ideal For\"...\n",
      "Name: product_specifications, dtype: object\n",
      "cat: 218    [\"Footwear >> Women's Footwear >> Casual Shoes...\n",
      "Name: product_category_tree, dtype: object\n",
      "Similarity Score of this product is  0.7432542364180202\n",
      "\n",
      "\n",
      "\n",
      "Name: 187    Steppings Boots Boots\n",
      "Name: product_name, dtype: object\n",
      "Desc: 187    Steppings Boots Boots\\n                       ...\n",
      "Name: description, dtype: object\n",
      "Spec: 187    {\"product_specification\"=>[{\"key\"=>\"Ideal For\"...\n",
      "Name: product_specifications, dtype: object\n",
      "cat: 187    [\"Footwear >> Women's Footwear >> Casual Shoes...\n",
      "Name: product_category_tree, dtype: object\n",
      "Similarity Score of this product is  0.7312343514278329\n",
      "\n",
      "\n",
      "\n"
     ]
    }
   ],
   "source": [
    "text=widgets.Text()\n",
    "display(text)\n",
    "def handle_submit(asd):\n",
    "    print(asd.value)\n",
    "text.on_submit(getProductIdAndRecommend)"
   ]
  },
  {
   "cell_type": "code",
   "execution_count": null,
   "metadata": {},
   "outputs": [],
   "source": []
  },
  {
   "cell_type": "code",
   "execution_count": null,
   "metadata": {},
   "outputs": [],
   "source": []
  }
 ],
 "metadata": {
  "kernelspec": {
   "display_name": "Python 3",
   "language": "python",
   "name": "python3"
  },
  "language_info": {
   "codemirror_mode": {
    "name": "ipython",
    "version": 3
   },
   "file_extension": ".py",
   "mimetype": "text/x-python",
   "name": "python",
   "nbconvert_exporter": "python",
   "pygments_lexer": "ipython3",
   "version": "3.6.5"
  }
 },
 "nbformat": 4,
 "nbformat_minor": 2
}

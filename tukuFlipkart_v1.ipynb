{
 "cells": [
  {
   "cell_type": "code",
   "execution_count": 1,
   "metadata": {},
   "outputs": [],
   "source": [
    "import pandas as pd\n",
    "import numpy as np\n",
    "import matplotlib.pyplot as plt"
   ]
  },
  {
   "cell_type": "code",
   "execution_count": 2,
   "metadata": {},
   "outputs": [],
   "source": [
    "import re"
   ]
  },
  {
   "cell_type": "code",
   "execution_count": 3,
   "metadata": {},
   "outputs": [],
   "source": [
    "from sklearn.preprocessing import Normalizer"
   ]
  },
  {
   "cell_type": "code",
   "execution_count": 4,
   "metadata": {},
   "outputs": [],
   "source": [
    "from sklearn.metrics import pairwise_distances"
   ]
  },
  {
   "cell_type": "code",
   "execution_count": 5,
   "metadata": {},
   "outputs": [],
   "source": [
    "from sklearn.feature_extraction.text import TfidfVectorizer"
   ]
  },
  {
   "cell_type": "code",
   "execution_count": 6,
   "metadata": {
    "scrolled": true
   },
   "outputs": [],
   "source": [
    "df=pd.read_csv(\"flipkart_com-ecommerce_sample.csv\")"
   ]
  },
  {
   "cell_type": "code",
   "execution_count": 7,
   "metadata": {},
   "outputs": [],
   "source": [
    "originalDF=df.copy()"
   ]
  },
  {
   "cell_type": "code",
   "execution_count": 8,
   "metadata": {},
   "outputs": [],
   "source": [
    "dropCols=['uniq_id','crawl_timestamp','product_url','pid','image','is_FK_Advantage_product','product_rating','overall_rating']"
   ]
  },
  {
   "cell_type": "code",
   "execution_count": 9,
   "metadata": {},
   "outputs": [],
   "source": [
    "df=df.drop_duplicates(subset='product_name')"
   ]
  },
  {
   "cell_type": "code",
   "execution_count": 10,
   "metadata": {},
   "outputs": [],
   "source": [
    "df=df.drop(dropCols,axis=1)"
   ]
  },
  {
   "cell_type": "code",
   "execution_count": 11,
   "metadata": {},
   "outputs": [
    {
     "data": {
      "text/plain": [
       "product_name                 0\n",
       "product_category_tree        0\n",
       "retail_price                56\n",
       "discounted_price            56\n",
       "description                  1\n",
       "brand                     3762\n",
       "product_specifications       8\n",
       "dtype: int64"
      ]
     },
     "execution_count": 11,
     "metadata": {},
     "output_type": "execute_result"
    }
   ],
   "source": [
    "df.isna().sum()"
   ]
  },
  {
   "cell_type": "code",
   "execution_count": 12,
   "metadata": {},
   "outputs": [],
   "source": [
    "def removeUnwantedElements(strValue):\n",
    "#     print(strValue)\n",
    "    strValue=re.sub(\"[^a-zA-Z]\",\" \",strValue)\n",
    "    strValue=strValue.split()\n",
    "    newStr=\"\";\n",
    "    for eachStr in strValue:\n",
    "        if(len(eachStr)>2):\n",
    "            newStr=newStr+\" \"+eachStr\n",
    "    return newStr"
   ]
  },
  {
   "cell_type": "code",
   "execution_count": 13,
   "metadata": {},
   "outputs": [],
   "source": [
    "for col in df.columns:\n",
    "    if(df[col].dtypes=='object'):\n",
    "        df[col]=df[col].fillna(\"\")\n",
    "        df[col]=df[col].apply(lambda rowVal: removeUnwantedElements(rowVal))\n",
    "    else:\n",
    "        df[col]=df[col].fillna(0).astype(\"float\")\n"
   ]
  },
  {
   "cell_type": "code",
   "execution_count": 14,
   "metadata": {},
   "outputs": [],
   "source": [
    "objectCols=list(df.dtypes[df.dtypes=='object'].index)"
   ]
  },
  {
   "cell_type": "code",
   "execution_count": 15,
   "metadata": {},
   "outputs": [
    {
     "data": {
      "text/plain": [
       "['product_name',\n",
       " 'product_category_tree',\n",
       " 'description',\n",
       " 'brand',\n",
       " 'product_specifications']"
      ]
     },
     "execution_count": 15,
     "metadata": {},
     "output_type": "execute_result"
    }
   ],
   "source": [
    "objectCols"
   ]
  },
  {
   "cell_type": "code",
   "execution_count": 16,
   "metadata": {},
   "outputs": [],
   "source": [
    "df['newCols']=\"\"\n"
   ]
  },
  {
   "cell_type": "code",
   "execution_count": 17,
   "metadata": {},
   "outputs": [],
   "source": [
    "for col in objectCols:\n",
    "    df['newCols']=df['newCols']+\" \"+df[col]"
   ]
  },
  {
   "cell_type": "code",
   "execution_count": 18,
   "metadata": {},
   "outputs": [
    {
     "data": {
      "text/plain": [
       "'  Alisha Solid Women Cycling Shorts  Clothing Women Clothing Lingerie Sleep Swimwear Shorts Alisha Shorts Alisha Solid Women Cycling Shorts  Key Features Alisha Solid Women Cycling Shorts Cotton Lycra Navy Red Navy Specifications Alisha Solid Women Cycling Shorts Shorts Details Number Contents Sales Package Pack Fabric Cotton Lycra Type Cycling Shorts General Details Pattern Solid Ideal For Women Fabric Care Gentle Machine Wash Lukewarm Water Not Bleach Additional Details Style Code ALTHT the Box shorts  Alisha  product specification key Number Contents Sales Package value Pack key Fabric value Cotton Lycra key Type value Cycling Shorts key Pattern value Solid key Ideal For value Women value Gentle Machine Wash Lukewarm Water Not Bleach key Style Code value ALTHT value shorts'"
      ]
     },
     "execution_count": 18,
     "metadata": {},
     "output_type": "execute_result"
    }
   ],
   "source": [
    "df.newCols[0]"
   ]
  },
  {
   "cell_type": "code",
   "execution_count": 19,
   "metadata": {},
   "outputs": [
    {
     "data": {
      "text/plain": [
       "(12676, 8)"
      ]
     },
     "execution_count": 19,
     "metadata": {},
     "output_type": "execute_result"
    }
   ],
   "source": [
    "df.shape"
   ]
  },
  {
   "cell_type": "markdown",
   "metadata": {},
   "source": [
    "## Doing TF IDF Vectorizer"
   ]
  },
  {
   "cell_type": "code",
   "execution_count": 20,
   "metadata": {},
   "outputs": [],
   "source": [
    "vectorizer=TfidfVectorizer(analyzer=\"word\",min_df=0.01,stop_words=\"english\")"
   ]
  },
  {
   "cell_type": "code",
   "execution_count": 21,
   "metadata": {},
   "outputs": [],
   "source": [
    "x=vectorizer.fit_transform(df.newCols)"
   ]
  },
  {
   "cell_type": "code",
   "execution_count": 22,
   "metadata": {},
   "outputs": [
    {
     "data": {
      "text/plain": [
       "(12676, 653)"
      ]
     },
     "execution_count": 22,
     "metadata": {},
     "output_type": "execute_result"
    }
   ],
   "source": [
    "x.shape"
   ]
  },
  {
   "cell_type": "code",
   "execution_count": 23,
   "metadata": {},
   "outputs": [],
   "source": [
    "vocabulary=vectorizer.get_feature_names()"
   ]
  },
  {
   "cell_type": "code",
   "execution_count": 24,
   "metadata": {},
   "outputs": [],
   "source": [
    "x=x.toarray()"
   ]
  },
  {
   "cell_type": "code",
   "execution_count": 25,
   "metadata": {},
   "outputs": [
    {
     "data": {
      "text/plain": [
       "(12676, 653)"
      ]
     },
     "execution_count": 25,
     "metadata": {},
     "output_type": "execute_result"
    }
   ],
   "source": [
    "x.shape"
   ]
  },
  {
   "cell_type": "code",
   "execution_count": 36,
   "metadata": {},
   "outputs": [],
   "source": [
    "df_modified=pd.DataFrame(x)"
   ]
  },
  {
   "cell_type": "code",
   "execution_count": 39,
   "metadata": {},
   "outputs": [],
   "source": [
    "df_modified['retail_price']=df['retail_price']\n",
    "df_modified['discounted_price']=df['discounted_price']"
   ]
  },
  {
   "cell_type": "code",
   "execution_count": 41,
   "metadata": {},
   "outputs": [
    {
     "data": {
      "text/plain": [
       "(12676, 655)"
      ]
     },
     "execution_count": 41,
     "metadata": {},
     "output_type": "execute_result"
    }
   ],
   "source": [
    "df_modified.shape"
   ]
  },
  {
   "cell_type": "code",
   "execution_count": 42,
   "metadata": {},
   "outputs": [],
   "source": [
    "df_modified=df_modified.fillna(0)"
   ]
  },
  {
   "cell_type": "code",
   "execution_count": 43,
   "metadata": {},
   "outputs": [],
   "source": [
    "normalizer=Normalizer()"
   ]
  },
  {
   "cell_type": "code",
   "execution_count": 44,
   "metadata": {},
   "outputs": [
    {
     "data": {
      "text/plain": [
       "(12676, 655)"
      ]
     },
     "execution_count": 44,
     "metadata": {},
     "output_type": "execute_result"
    }
   ],
   "source": [
    "df_modified.shape"
   ]
  },
  {
   "cell_type": "code",
   "execution_count": 45,
   "metadata": {},
   "outputs": [],
   "source": [
    "df_modified[['retail_price','discounted_price']]=normalizer.fit_transform(df_modified[['retail_price','discounted_price']])"
   ]
  },
  {
   "cell_type": "code",
   "execution_count": 47,
   "metadata": {},
   "outputs": [
    {
     "data": {
      "text/plain": [
       "(12676, 8)"
      ]
     },
     "execution_count": 47,
     "metadata": {},
     "output_type": "execute_result"
    }
   ],
   "source": [
    "df_modified.shape"
   ]
  },
  {
   "cell_type": "code",
   "execution_count": 48,
   "metadata": {},
   "outputs": [],
   "source": [
    "result=pairwise_distances(df_modified,metric=\"cosine\")"
   ]
  },
  {
   "cell_type": "raw",
   "metadata": {},
   "source": [
    "pd.DataFrame(result).to_csv(\"distanceMeasure.csv\",index=None)"
   ]
  },
  {
   "cell_type": "code",
   "execution_count": 49,
   "metadata": {},
   "outputs": [
    {
     "data": {
      "text/plain": [
       "(12676, 12676)"
      ]
     },
     "execution_count": 49,
     "metadata": {},
     "output_type": "execute_result"
    }
   ],
   "source": [
    "result.shape"
   ]
  },
  {
   "cell_type": "code",
   "execution_count": 61,
   "metadata": {},
   "outputs": [],
   "source": [
    "similarityDF=pd.DataFrame(result)"
   ]
  },
  {
   "cell_type": "code",
   "execution_count": 62,
   "metadata": {},
   "outputs": [
    {
     "data": {
      "text/plain": [
       "12675"
      ]
     },
     "execution_count": 62,
     "metadata": {},
     "output_type": "execute_result"
    }
   ],
   "source": [
    "len(originalDF.pid.unique())"
   ]
  },
  {
   "cell_type": "code",
   "execution_count": 63,
   "metadata": {},
   "outputs": [],
   "source": [
    "originalDF=originalDF.drop_duplicates(subset='product_name')"
   ]
  },
  {
   "cell_type": "code",
   "execution_count": 64,
   "metadata": {},
   "outputs": [],
   "source": [
    "similarityDF.columns=originalDF.pid"
   ]
  },
  {
   "cell_type": "code",
   "execution_count": 65,
   "metadata": {},
   "outputs": [],
   "source": [
    "similarityDF.index=originalDF.pid"
   ]
  },
  {
   "cell_type": "code",
   "execution_count": 67,
   "metadata": {},
   "outputs": [
    {
     "data": {
      "text/plain": [
       "(12676, 12676)"
      ]
     },
     "execution_count": 67,
     "metadata": {},
     "output_type": "execute_result"
    }
   ],
   "source": [
    "similarityDF.shape"
   ]
  },
  {
   "cell_type": "code",
   "execution_count": 69,
   "metadata": {
    "scrolled": true
   },
   "outputs": [],
   "source": [
    "similarityDF.to_csv(\"recoFlipkartP1.csv\")"
   ]
  },
  {
   "cell_type": "code",
   "execution_count": 9,
   "metadata": {},
   "outputs": [],
   "source": [
    "x=pd.read_csv(\"recoFlipkartP1.csv\")"
   ]
  },
  {
   "cell_type": "code",
   "execution_count": 10,
   "metadata": {},
   "outputs": [
    {
     "data": {
      "text/html": [
       "<div>\n",
       "<style scoped>\n",
       "    .dataframe tbody tr th:only-of-type {\n",
       "        vertical-align: middle;\n",
       "    }\n",
       "\n",
       "    .dataframe tbody tr th {\n",
       "        vertical-align: top;\n",
       "    }\n",
       "\n",
       "    .dataframe thead th {\n",
       "        text-align: right;\n",
       "    }\n",
       "</style>\n",
       "<table border=\"1\" class=\"dataframe\">\n",
       "  <thead>\n",
       "    <tr style=\"text-align: right;\">\n",
       "      <th></th>\n",
       "      <th>pid</th>\n",
       "      <th>SRTEH2FF9KEDEFGF</th>\n",
       "      <th>SBEEH3QGU7MFYJFY</th>\n",
       "      <th>SHOEH4GRSUBJGZXE</th>\n",
       "      <th>PSOEH3ZYDMSYARJ5</th>\n",
       "      <th>PWTEB7H2E4KCYUE3</th>\n",
       "      <th>SHOEH3DZBFR88SCK</th>\n",
       "      <th>SHOEH4KM2W3Z6EH5</th>\n",
       "      <th>SWIEHF3EF5PZAZUY</th>\n",
       "      <th>PSOEH3ZYYFETGCCD</th>\n",
       "      <th>...</th>\n",
       "      <th>STIE5UVGW2JWVWCT</th>\n",
       "      <th>STIEC889ZGFD3RCE</th>\n",
       "      <th>STIE2KFZTQFVYZQQ</th>\n",
       "      <th>SHODYZ6SYRMHDYPB</th>\n",
       "      <th>STIE9F5UGVJFQYZH</th>\n",
       "      <th>SNDEY8UH5TZ2AJCK</th>\n",
       "      <th>STIE2ZEPACRQJKH7</th>\n",
       "      <th>SNDDX969ZZJJKSHB</th>\n",
       "      <th>SNDEF3R3VB55PJBX</th>\n",
       "      <th>STIE4NXGSXG5GFR2</th>\n",
       "    </tr>\n",
       "  </thead>\n",
       "  <tbody>\n",
       "    <tr>\n",
       "      <th>0</th>\n",
       "      <td>SRTEH2FF9KEDEFGF</td>\n",
       "      <td>0.000000</td>\n",
       "      <td>0.475111</td>\n",
       "      <td>0.447381</td>\n",
       "      <td>0.949805</td>\n",
       "      <td>0.530671</td>\n",
       "      <td>0.499672</td>\n",
       "      <td>0.917077</td>\n",
       "      <td>0.863490</td>\n",
       "      <td>0.469085</td>\n",
       "      <td>...</td>\n",
       "      <td>0.466382</td>\n",
       "      <td>0.924805</td>\n",
       "      <td>0.942893</td>\n",
       "      <td>0.943626</td>\n",
       "      <td>0.924814</td>\n",
       "      <td>0.433184</td>\n",
       "      <td>0.963676</td>\n",
       "      <td>0.463135</td>\n",
       "      <td>0.892660</td>\n",
       "      <td>0.476473</td>\n",
       "    </tr>\n",
       "    <tr>\n",
       "      <th>1</th>\n",
       "      <td>SBEEH3QGU7MFYJFY</td>\n",
       "      <td>0.475111</td>\n",
       "      <td>0.000000</td>\n",
       "      <td>0.390794</td>\n",
       "      <td>0.916802</td>\n",
       "      <td>0.450887</td>\n",
       "      <td>0.428134</td>\n",
       "      <td>0.865517</td>\n",
       "      <td>0.887791</td>\n",
       "      <td>0.450230</td>\n",
       "      <td>...</td>\n",
       "      <td>0.445388</td>\n",
       "      <td>0.823518</td>\n",
       "      <td>0.893975</td>\n",
       "      <td>0.916958</td>\n",
       "      <td>0.845895</td>\n",
       "      <td>0.411119</td>\n",
       "      <td>0.930782</td>\n",
       "      <td>0.446141</td>\n",
       "      <td>0.880674</td>\n",
       "      <td>0.424897</td>\n",
       "    </tr>\n",
       "    <tr>\n",
       "      <th>2</th>\n",
       "      <td>SHOEH4GRSUBJGZXE</td>\n",
       "      <td>0.447381</td>\n",
       "      <td>0.390794</td>\n",
       "      <td>0.000000</td>\n",
       "      <td>0.912572</td>\n",
       "      <td>0.502820</td>\n",
       "      <td>0.303286</td>\n",
       "      <td>0.599169</td>\n",
       "      <td>0.893033</td>\n",
       "      <td>0.433188</td>\n",
       "      <td>...</td>\n",
       "      <td>0.425588</td>\n",
       "      <td>0.830945</td>\n",
       "      <td>0.900208</td>\n",
       "      <td>0.724128</td>\n",
       "      <td>0.840594</td>\n",
       "      <td>0.283615</td>\n",
       "      <td>0.936835</td>\n",
       "      <td>0.325357</td>\n",
       "      <td>0.642054</td>\n",
       "      <td>0.422807</td>\n",
       "    </tr>\n",
       "    <tr>\n",
       "      <th>3</th>\n",
       "      <td>PSOEH3ZYDMSYARJ5</td>\n",
       "      <td>0.949805</td>\n",
       "      <td>0.916802</td>\n",
       "      <td>0.912572</td>\n",
       "      <td>0.000000</td>\n",
       "      <td>0.974039</td>\n",
       "      <td>0.943017</td>\n",
       "      <td>0.876360</td>\n",
       "      <td>0.915530</td>\n",
       "      <td>0.333869</td>\n",
       "      <td>...</td>\n",
       "      <td>0.889218</td>\n",
       "      <td>0.771464</td>\n",
       "      <td>0.807372</td>\n",
       "      <td>0.891298</td>\n",
       "      <td>0.773893</td>\n",
       "      <td>0.860484</td>\n",
       "      <td>0.878643</td>\n",
       "      <td>0.935694</td>\n",
       "      <td>0.841662</td>\n",
       "      <td>0.933451</td>\n",
       "    </tr>\n",
       "    <tr>\n",
       "      <th>4</th>\n",
       "      <td>PWTEB7H2E4KCYUE3</td>\n",
       "      <td>0.530671</td>\n",
       "      <td>0.450887</td>\n",
       "      <td>0.502820</td>\n",
       "      <td>0.974039</td>\n",
       "      <td>0.000000</td>\n",
       "      <td>0.443906</td>\n",
       "      <td>0.962030</td>\n",
       "      <td>0.982797</td>\n",
       "      <td>0.504902</td>\n",
       "      <td>...</td>\n",
       "      <td>0.546738</td>\n",
       "      <td>0.963141</td>\n",
       "      <td>0.974533</td>\n",
       "      <td>0.976595</td>\n",
       "      <td>0.947536</td>\n",
       "      <td>0.494542</td>\n",
       "      <td>0.983139</td>\n",
       "      <td>0.499267</td>\n",
       "      <td>0.968464</td>\n",
       "      <td>0.528195</td>\n",
       "    </tr>\n",
       "  </tbody>\n",
       "</table>\n",
       "<p>5 rows × 12677 columns</p>\n",
       "</div>"
      ],
      "text/plain": [
       "                pid  SRTEH2FF9KEDEFGF  SBEEH3QGU7MFYJFY  SHOEH4GRSUBJGZXE  \\\n",
       "0  SRTEH2FF9KEDEFGF          0.000000          0.475111          0.447381   \n",
       "1  SBEEH3QGU7MFYJFY          0.475111          0.000000          0.390794   \n",
       "2  SHOEH4GRSUBJGZXE          0.447381          0.390794          0.000000   \n",
       "3  PSOEH3ZYDMSYARJ5          0.949805          0.916802          0.912572   \n",
       "4  PWTEB7H2E4KCYUE3          0.530671          0.450887          0.502820   \n",
       "\n",
       "   PSOEH3ZYDMSYARJ5  PWTEB7H2E4KCYUE3  SHOEH3DZBFR88SCK  SHOEH4KM2W3Z6EH5  \\\n",
       "0          0.949805          0.530671          0.499672          0.917077   \n",
       "1          0.916802          0.450887          0.428134          0.865517   \n",
       "2          0.912572          0.502820          0.303286          0.599169   \n",
       "3          0.000000          0.974039          0.943017          0.876360   \n",
       "4          0.974039          0.000000          0.443906          0.962030   \n",
       "\n",
       "   SWIEHF3EF5PZAZUY  PSOEH3ZYYFETGCCD        ...         STIE5UVGW2JWVWCT  \\\n",
       "0          0.863490          0.469085        ...                 0.466382   \n",
       "1          0.887791          0.450230        ...                 0.445388   \n",
       "2          0.893033          0.433188        ...                 0.425588   \n",
       "3          0.915530          0.333869        ...                 0.889218   \n",
       "4          0.982797          0.504902        ...                 0.546738   \n",
       "\n",
       "   STIEC889ZGFD3RCE  STIE2KFZTQFVYZQQ  SHODYZ6SYRMHDYPB  STIE9F5UGVJFQYZH  \\\n",
       "0          0.924805          0.942893          0.943626          0.924814   \n",
       "1          0.823518          0.893975          0.916958          0.845895   \n",
       "2          0.830945          0.900208          0.724128          0.840594   \n",
       "3          0.771464          0.807372          0.891298          0.773893   \n",
       "4          0.963141          0.974533          0.976595          0.947536   \n",
       "\n",
       "   SNDEY8UH5TZ2AJCK  STIE2ZEPACRQJKH7  SNDDX969ZZJJKSHB  SNDEF3R3VB55PJBX  \\\n",
       "0          0.433184          0.963676          0.463135          0.892660   \n",
       "1          0.411119          0.930782          0.446141          0.880674   \n",
       "2          0.283615          0.936835          0.325357          0.642054   \n",
       "3          0.860484          0.878643          0.935694          0.841662   \n",
       "4          0.494542          0.983139          0.499267          0.968464   \n",
       "\n",
       "   STIE4NXGSXG5GFR2  \n",
       "0          0.476473  \n",
       "1          0.424897  \n",
       "2          0.422807  \n",
       "3          0.933451  \n",
       "4          0.528195  \n",
       "\n",
       "[5 rows x 12677 columns]"
      ]
     },
     "execution_count": 10,
     "metadata": {},
     "output_type": "execute_result"
    }
   ],
   "source": [
    "x.head()"
   ]
  },
  {
   "cell_type": "code",
   "execution_count": null,
   "metadata": {},
   "outputs": [],
   "source": [
    "2"
   ]
  }
 ],
 "metadata": {
  "kernelspec": {
   "display_name": "Python 3",
   "language": "python",
   "name": "python3"
  },
  "language_info": {
   "codemirror_mode": {
    "name": "ipython",
    "version": 3
   },
   "file_extension": ".py",
   "mimetype": "text/x-python",
   "name": "python",
   "nbconvert_exporter": "python",
   "pygments_lexer": "ipython3",
   "version": "3.6.5"
  }
 },
 "nbformat": 4,
 "nbformat_minor": 2
}
